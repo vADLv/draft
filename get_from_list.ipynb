{
  "nbformat": 4,
  "nbformat_minor": 0,
  "metadata": {
    "colab": {
      "provenance": [],
      "collapsed_sections": []
    },
    "kernelspec": {
      "name": "python3",
      "display_name": "Python 3"
    },
    "language_info": {
      "name": "python"
    }
  },
  "cells": [
    {
      "cell_type": "code",
      "source": [
        "import random\n",
        "import matplotlib.pyplot as plt\n",
        "import time"
      ],
      "metadata": {
        "id": "n-UIa-S604lH"
      },
      "execution_count": 152,
      "outputs": []
    },
    {
      "cell_type": "code",
      "source": [
        "input_list = [1, 3, 4, 3, 3,5,6,7,8,9,0,43,5]\n",
        "prob = [.7, .4, .5, .9, .1,.7, .4, .5, .9, .1,.7, .4, .5]\n",
        "k = 7"
      ],
      "metadata": {
        "id": "koIKNjjWiEB8"
      },
      "execution_count": null,
      "outputs": []
    },
    {
      "cell_type": "code",
      "source": [
        "def fisrt_approach(inl, k):\n",
        "  \"\"\"\n",
        "  O(n*k)\n",
        "  \"\"\"\n",
        "  input_list = inl.copy()\n",
        "  return [input_list.pop(random.randint(0,len(input_list)-1)) for i in range(k)]"
      ],
      "metadata": {
        "id": "5hYfYzR3g63K"
      },
      "execution_count": 155,
      "outputs": []
    },
    {
      "cell_type": "code",
      "source": [
        "def second_approach(inl, pr, k):\n",
        "  \"\"\"\n",
        "  O(n*k)\n",
        "  \"\"\"\n",
        "  input_list = inl.copy()\n",
        "  prob = pr.copy()\n",
        "  a = []\n",
        "\n",
        "  for j in range(k):\n",
        "    new_prob = [int(sum(prob[:i+1])*10) for i in range(len(prob))]\n",
        "    r = random.randint(1,new_prob[-1])\n",
        "    for p in range(len(new_prob)):\n",
        "      if r<=new_prob[p]:\n",
        "        r=p\n",
        "        break\n",
        "    a.append(input_list.pop(r))\n",
        "    prob.pop(r)\n",
        "\n",
        "  return a"
      ],
      "metadata": {
        "id": "J2TJ_yx7hCCU"
      },
      "execution_count": 156,
      "outputs": []
    },
    {
      "cell_type": "code",
      "source": [
        "fisrt_approach(input_list, k)"
      ],
      "metadata": {
        "colab": {
          "base_uri": "https://localhost:8080/"
        },
        "id": "N5LdbmUthQGH",
        "outputId": "e3a7581f-2fc1-4a6b-a49f-6db39987bf35"
      },
      "execution_count": 157,
      "outputs": [
        {
          "output_type": "execute_result",
          "data": {
            "text/plain": [
              "[0, 8, 9, 3, 43, 5, 7]"
            ]
          },
          "metadata": {},
          "execution_count": 157
        }
      ]
    },
    {
      "cell_type": "code",
      "source": [
        "second_approach(input_list,prob, k)"
      ],
      "metadata": {
        "colab": {
          "base_uri": "https://localhost:8080/"
        },
        "id": "46hWkSNTiFGA",
        "outputId": "40cf825e-892b-4fec-c44a-a80e67ecaf5b"
      },
      "execution_count": 158,
      "outputs": [
        {
          "output_type": "execute_result",
          "data": {
            "text/plain": [
              "[43, 5, 3, 1, 5, 3, 0]"
            ]
          },
          "metadata": {},
          "execution_count": 158
        }
      ]
    },
    {
      "cell_type": "code",
      "source": [
        "y = []\n",
        "for k in range(len(input_list)):\n",
        "    t0 = time.time()\n",
        "    a = []\n",
        "\n",
        "    # fisrt_approach(input_list,k)\n",
        "    second_approach(input_list,prob,k)\n",
        "\n",
        "    t1 = time.time()\n",
        "    y.append(t1-t0)\n",
        "\n",
        "plt.plot(y)\n",
        "plt.xlabel(\"List elements (10**5)\")\n",
        "plt.ylabel(\"Time (sec)\")\n",
        "plt.show()"
      ],
      "metadata": {
        "colab": {
          "base_uri": "https://localhost:8080/",
          "height": 279
        },
        "id": "phU8-y8zD1Rm",
        "outputId": "452f2c25-7924-4915-cf1f-113422ce4d3c"
      },
      "execution_count": 162,
      "outputs": [
        {
          "output_type": "display_data",
          "data": {
            "text/plain": [
              "<Figure size 432x288 with 1 Axes>"
            ],
            "image/png": "[encoded data removed]"
          },
          "metadata": {
            "needs_background": "light"
          }
        }
      ]
    }
  ]
}